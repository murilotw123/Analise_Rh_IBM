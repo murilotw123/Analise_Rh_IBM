{
 "cells": [
  {
   "cell_type": "markdown",
   "id": "6fd9eaac-6beb-4071-9124-a341f78a94a5",
   "metadata": {},
   "source": [
    "# 0. INTRODUÇÃO"
   ]
  },
  {
   "cell_type": "markdown",
   "id": "79d6d003-caff-4bd4-9926-251acfa3977a",
   "metadata": {},
   "source": [
    "A análise abaixo foi feita utilizando dados do RH da IBM que foram disponibilizados no site www.kaggle.com.\n",
    "\n",
    "Nossa ideia é entender o perfil das pessoas que deixam a empresa, o que pode ser importante para previnir demissões, diminuir custos\n",
    "e aumentar a satisfação dos empregados, o que deve melhorar a produtividade da empresa.\n",
    "\n",
    "Perguntas que tentaremos responder com a análise: \n",
    "-\n",
    "-\n",
    "-\n",
    "-\n",
    "-\n",
    "-\n"
   ]
  },
  {
   "cell_type": "markdown",
   "id": "b326fb02-53f5-40df-966d-9126646f70ee",
   "metadata": {},
   "source": [
    "*OBS: Fluxograma da analise:  analisar a estrutura do dataset > análise univariada > análise bivariada > análise multivariada*"
   ]
  },
  {
   "cell_type": "markdown",
   "id": "2a0b3f6c-17c8-4ba2-9a53-0af9e32f6cfe",
   "metadata": {},
   "source": [
    "# 1. Carregando Biblotecas"
   ]
  },
  {
   "cell_type": "code",
   "execution_count": 2,
   "id": "c21b58b1-0638-46b3-9bdc-d38e017c3076",
   "metadata": {},
   "outputs": [],
   "source": [
    "import pandas as pd\n",
    "import numpy as np\n",
    "\n",
    "import seaborn as sns\n",
    "import matplotlib.pyplot as plt\n",
    "\n",
    " \n"
   ]
  },
  {
   "cell_type": "markdown",
   "id": "15e43b10-226c-4ce7-952e-906baa97bcb4",
   "metadata": {},
   "source": [
    "# 2. Carregando DATASET"
   ]
  },
  {
   "cell_type": "code",
   "execution_count": 1,
   "id": "459ec425-7d55-4402-a833-77bdd002cd8f",
   "metadata": {},
   "outputs": [
    {
     "ename": "NameError",
     "evalue": "name 'pd' is not defined",
     "output_type": "error",
     "traceback": [
      "\u001b[1;31m---------------------------------------------------------------------------\u001b[0m",
      "\u001b[1;31mNameError\u001b[0m                                 Traceback (most recent call last)",
      "Cell \u001b[1;32mIn[1], line 1\u001b[0m\n\u001b[1;32m----> 1\u001b[0m rh \u001b[38;5;241m=\u001b[39m pd\u001b[38;5;241m.\u001b[39mread_csv(\u001b[38;5;124m'\u001b[39m\u001b[38;5;124mWA_Fn-UseC_-HR-Employee-Attrition.csv\u001b[39m\u001b[38;5;124m'\u001b[39m)\n\u001b[0;32m      2\u001b[0m rh\u001b[38;5;241m.\u001b[39mhead()\n",
      "\u001b[1;31mNameError\u001b[0m: name 'pd' is not defined"
     ]
    }
   ],
   "source": [
    "rh = pd.read_csv('WA_Fn-UseC_-HR-Employee-Attrition.csv')\n",
    "rh.head()"
   ]
  },
  {
   "cell_type": "code",
   "execution_count": null,
   "id": "45e17f8f-5181-4d7a-bf9f-3443f34a89c4",
   "metadata": {},
   "outputs": [],
   "source": []
  }
 ],
 "metadata": {
  "kernelspec": {
   "display_name": "Python 3 (ipykernel)",
   "language": "python",
   "name": "python3"
  },
  "language_info": {
   "codemirror_mode": {
    "name": "ipython",
    "version": 3
   },
   "file_extension": ".py",
   "mimetype": "text/x-python",
   "name": "python",
   "nbconvert_exporter": "python",
   "pygments_lexer": "ipython3",
   "version": "3.12.4"
  }
 },
 "nbformat": 4,
 "nbformat_minor": 5
}
